{
 "cells": [
  {
   "cell_type": "code",
   "execution_count": 17,
   "id": "2320ce88",
   "metadata": {},
   "outputs": [],
   "source": [
    "import numpy as np\n",
    "\n",
    "def methode_naive(N):\n",
    "    primes=[]\n",
    "    p=2\n",
    "    while N%p==0:\n",
    "        primes.append(p)\n",
    "        q=N//p\n",
    "        N=q\n",
    "    p=3\n",
    "    while p<=N:\n",
    "        while N%p==0:\n",
    "            primes.append(p)\n",
    "            q=N//p\n",
    "            N=q\n",
    "        p=p+2\n",
    "    return primes"
   ]
  },
  {
   "cell_type": "code",
   "execution_count": 19,
   "id": "dd2e647e",
   "metadata": {},
   "outputs": [
    {
     "name": "stdout",
     "output_type": "stream",
     "text": [
      "[5, 397, 789851]\n",
      "temp execution pour factoriser : 1567854235  ==>  0.10945009998977184\n"
     ]
    }
   ],
   "source": [
    "N=1567854235\n",
    "tps1 = time.perf_counter()\n",
    "methode_naive(N)\n",
    "tps2 = time.perf_counter()\n",
    "print(methode_naive(N))\n",
    "print(\"temp execution pour factoriser :\",N,\" ==> \",tps2 -tps1)"
   ]
  },
  {
   "cell_type": "code",
   "execution_count": null,
   "id": "7b4f12d6",
   "metadata": {},
   "outputs": [],
   "source": []
  }
 ],
 "metadata": {
  "kernelspec": {
   "display_name": "Python 3 (ipykernel)",
   "language": "python",
   "name": "python3"
  },
  "language_info": {
   "codemirror_mode": {
    "name": "ipython",
    "version": 3
   },
   "file_extension": ".py",
   "mimetype": "text/x-python",
   "name": "python",
   "nbconvert_exporter": "python",
   "pygments_lexer": "ipython3",
   "version": "3.9.13"
  }
 },
 "nbformat": 4,
 "nbformat_minor": 5
}
