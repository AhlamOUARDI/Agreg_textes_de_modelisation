{
 "cells": [
  {
   "cell_type": "code",
   "execution_count": 1,
   "id": "86ffc51f",
   "metadata": {},
   "outputs": [],
   "source": [
    "import numpy as np\n",
    "from math import *\n",
    "import matplotlib.pyplot as plt"
   ]
  },
  {
   "cell_type": "markdown",
   "id": "b4f13104",
   "metadata": {},
   "source": [
    "**I- Introduction**\n",
    "\n",
    "Il y a à peine quelques années, le problème de la sécurité des transmissions de données semblait être l'apanage des seuls militaires. Ce n'est plus le cas, avec l'essor des techniques numériques dans le commerce (Internet, les cartes de crédit, les télécommunications, les décodeurs de télévision, etc.)\n",
    "\n",
    "Les méthodes empiriques traditionnelles se sont révélées trop fragiles; elles reposaient souvent sur le schéma suivant : on choisit un livre, une fois pour toutes, et on considère la permutation des vingt-six lettres de l'alphabet définie par les vingt-six premières lettres de ce livre.\n",
    "\n",
    "Le codage d'un texte consiste alors à appliquer cette permutation $\\sigma$ au texte à coder, et le décodage à appliquer la permutation réciproque $\\sigma^{-1}$ au texte à décoder.\n",
    "\n",
    "En numérique, si par exemple le message à transmettre est codé sur $64$ bits, on peut employer cette technique en considérant une permutation $\\sigma \\in S_{64}$. C'est ce genre d'idées qui est sousjacent au procédé DES, dû à IBM, et qui est encore le plus utilisé en informatique.\n",
    "Le talon d'Achille de ce genre de cryptosytème est le suivant : si quelqu'un sait coder, il sait aussi décoder, car il est très facile de trouver la permutation réciproque d'une permutation sur $26$, $64$, $128$ ou même $256$ lettres.\n",
    "\n",
    "C'est pourquoi l'apparition de cryptosystèmes dits à clé publique, à la fin du siècle dernier, a fait sensation.\n",
    "\n",
    "Ces cryptosystèmes, comme le nom l'indique, sont tels que le codage est public : tout le monde connaît l'algorithme pour coder le message. Mais on ne peut pas en déduire le décodage.\n",
    "\n",
    "En fait, cela revient à construire une permutation $\\sigma$ d'un ensemble à $N$ éléments, mais ici $N$ est gigantesque (de l'ordre de $10^{500}$ , par exemple.) On ne peut même pas écrire la liste de ces éléments, et la méthode habituelle pour trouver la permutation réciproque d'une permutation donnée ne peut plus s'appliquer.\n",
    "\n",
    "Dans le paragraphe suivant, nous décrivons le cryptosystème le plus célèbre de ce genre : la méthode RSA, du nom de ses inventeurs Rivest, Shamir et Adelman."
   ]
  },
  {
   "cell_type": "markdown",
   "id": "275dc5c4",
   "metadata": {},
   "source": [
    "**RSA**"
   ]
  },
  {
   "cell_type": "markdown",
   "id": "5aee521a",
   "metadata": {},
   "source": [
    "Cette méthode est basée sur le théorème suivant :\n",
    "\n",
    "**Théorème** Soit $G$ un groupe fini d’ordre $N$ et $m$ un entier premier à $N$. \n",
    "\n",
    "L’application $f_m$ : $G \\rightarrow G$ définie par $ x \\rightarrow x^m$ est bijective, et son application réciproque est l’application $f_k$ définie par \n",
    "par $ x \\rightarrow x^k$, où $k$ est l’inverse de $m$ dans le groupe multiplicatif $\\mathbb Z/n\\mathbb Z^*$ (i.e. l’ensemble des éléments inversibles de $\\mathbb Z/n\\mathbb Z$.\n",
    "\n",
    "**Preuve** Comme $m$ est premier à $N$, d'après Bezout, $\\exists \\space u, v \\in \\mathbb Z$ tels que $mu+Nv=1$, donc $\\forall x \\in G$ on a $x=x^{mu+Nv}=x^{mu}x^{Nv}=(x^u)^m=f_m(x^u)$, alors $f_m$ est surjective. De plus, Soit $x,y \\in G$, on a \n",
    "$f_m(x)=f_m(y) \\Rightarrow x^m=y^m \\Rightarrow x=x^{mu+Nv}=y^{mu+Nv}=y$ alors $f_m$ est injective. Alors $f_m$ est bijecive.\n",
    "\n",
    "Soit $x,y \\in G$ tels que $f_m(x)=y$, donc $x^m=y \\Rightarrow x=x^{mu+Nv}=x^{mu}x^{Nv}=(x^m)^u=y^u$, or $mu+Nv=1$ dans $\\mathbb Z/n\\mathbb Z$ équivaut à $mu=1$ donc $m^{-1}=u$ (i.e. $u$ est l'inverse de $m$ dans $\\mathbb Z/n\\mathbb Z$), cqfd."
   ]
  },
  {
   "cell_type": "markdown",
   "id": "8ab4dc20",
   "metadata": {},
   "source": [
    "Si l'on connaît $N$ et $m$, on en déduit donc rapidement $k$, par exemple par l'algorithme d'Euclide étendu, qui permet d'obtenir des entiers $k$ et $l$ tels que $mk+lN =1$.\n",
    "\n",
    "**L'algorithme d'Euclide**\n",
    "\n",
    "Entrées : entiers positifs $x$ et $y$.\n",
    "\n",
    "Sorties : entiers $d, a$ et $b$ avec $d=\\operatorname{pgcd}(x, y)$ et $a x+b y=d$.\n",
    "\n",
    "Règles :\n",
    "$$\n",
    "\\begin{array}{rlll}\n",
    "& (x, y) & \\mapsto & (x, 1,0, y, 0,1) \\\\\n",
    "{[u \\neq 0]:} & (u, c, d, v, a, b) & \\mapsto & (v-q u, a-q c, b-q d, u, c, d) \\text { où } q=v \\div u \\\\\n",
    "{[u=0]:} & (u, c, d, v, a, b) & \\mapsto & (v, a, b)\n",
    "\\end{array}\n",
    "$$"
   ]
  },
  {
   "cell_type": "code",
   "execution_count": 2,
   "id": "644d5b6a",
   "metadata": {},
   "outputs": [],
   "source": [
    "def inverse(a, b):\n",
    "    x = 0\n",
    "    y = 1\n",
    "    u = 1\n",
    "    v = 0\n",
    "    oa = a  \n",
    "    ob = b  \n",
    "    while b != 0: \n",
    "        q = a // b\n",
    "        (a, b) = (b, a % b)\n",
    "        (x, u) = ((u - (q * x)), x)\n",
    "        (y, v) = ((v - (q * y)), y)\n",
    "        if u < 0:\n",
    "            u += ob  \n",
    "        if v < 0:\n",
    "            v += oa         \n",
    "    return u"
   ]
  },
  {
   "cell_type": "markdown",
   "id": "98fe3e82",
   "metadata": {},
   "source": [
    "Par ailleurs, pour $x \\in G$, le calcul de $x^k$ se fait lui aussi rapidement, en $O(logk)$ opérations dans le groupe G, en écrivant k en binaire. L’algorithme RSA consiste à fournir au codeur un groupe G dans lequel il sait calculer, mais dont il ne connaît pas l’ordre N, et un certain entier m. Le codage consiste alors, à partir d’un message x identifié à un élément de G, à calculer $x^m$.\n",
    "Le décodage nécessite de connaître $k$, inverse de $m$ dans $\\mathbb Z/n\\mathbb Z$. Dans les cas utilisés dans la pratique, on ne sait pas comment trouver k sans connaître N. Donnons l’exemple habituel de groupe G utilisé : soient deux nombres premiers p et q, et soient M \u0006 pq, et G \u0006\n",
    "Z\n",
    "MZ\u0007\n",
    ". Il suffit de connaître M pour savoir calculer dans G (et rapidement : les additions et multiplications se font en O\n",
    "log2 M\n",
    "opérations élémentaires sur les\n",
    "chiffres de M), mais on ne connaît l’ordre de G, à savoir\n",
    "p \b 1\n",
    "\n",
    "q \b 1\n",
    "que si l’on connaît p et\n",
    "q, c’est-à-dire la décomposition en facteurs premiers de M.\n",
    "On ne peut pas choisir m \u0006 2 pour coder. Maissi l’on a choisi p et q tels que p \t q \t 2 mod 3,\n",
    "on peut alors choisir m \u0006 3 ; x \u0001 x\n",
    "m est bien une permutation de G, et on trouve immédiatement\n",
    "k \u0006\n",
    "2\n",
    "p \b 1\n",
    "\n",
    "q \b 1  \u0005 1\n",
    "3 \n",
    "\n",
    "La force de la méthode RSA réside dans le fait qu’à l’heure actuelle on ne connaît pas de\n",
    "méthode rapide de factorisation d’un entier : il faut actuellement des mois et plusieurs centaines\n",
    "de stations de travail travaillant en parallèle pour factoriser un entier de l’ordre de "
   ]
  },
  {
   "cell_type": "markdown",
   "id": "d03d2b78",
   "metadata": {},
   "source": [
    "**Méthode naive**"
   ]
  },
  {
   "cell_type": "code",
   "execution_count": 3,
   "id": "3468715b",
   "metadata": {},
   "outputs": [
    {
     "data": {
      "text/plain": [
       "11"
      ]
     },
     "execution_count": 3,
     "metadata": {},
     "output_type": "execute_result"
    }
   ],
   "source": [
    "def naive(n):\n",
    "    f=[]\n",
    "    i=2\n",
    "    while i<=np.sqrt(n):\n",
    "        if n%i==0:\n",
    "            f.append(i)\n",
    "            if i!= n//i:\n",
    "                f.append(n//i)\n",
    "        i+=1\n",
    "    if f==[]:\n",
    "        f.append(n)\n",
    "    return min(f)\n",
    "\n",
    "naive(11*13)"
   ]
  },
  {
   "cell_type": "markdown",
   "id": "924ea4ed",
   "metadata": {},
   "source": [
    "**Factorisation de Pollard**"
   ]
  },
  {
   "cell_type": "code",
   "execution_count": 4,
   "id": "64f224e6",
   "metadata": {},
   "outputs": [
    {
     "data": {
      "text/plain": [
       "11"
      ]
     },
     "execution_count": 4,
     "metadata": {},
     "output_type": "execute_result"
    }
   ],
   "source": [
    "def pollard(n):\n",
    "    f = lambda t : t**2+1\n",
    "    i= 2 #np.random.randint(2)\n",
    "    b= 2 #np.random.randint(2)\n",
    "    d=1\n",
    "    if n==1: return [1]\n",
    "    while d==1:\n",
    "        i,b=f(i)%n,f(f(b))%n\n",
    "        d=gcd(i-b,n)\n",
    "    return d\n",
    "pollard(11*13)"
   ]
  },
  {
   "cell_type": "markdown",
   "id": "80e727dc",
   "metadata": {},
   "source": [
    "**RSA**"
   ]
  },
  {
   "cell_type": "code",
   "execution_count": 7,
   "id": "95b666b5",
   "metadata": {},
   "outputs": [],
   "source": [
    "N=11*13\n",
    "def codage(m,M): \n",
    "    s=''\n",
    "    for i in M:\n",
    "        s+=chr(ord(str(i))**m%N)\n",
    "    return s\n",
    "\n",
    "\n",
    "\n",
    "\n",
    "def decodage(m,n,Mc):\n",
    "    p,q =pollard(n), N//pollard(n)\n",
    "    phi = (p-1) * (q-1)\n",
    "    d = inverse(m, phi)\n",
    "    s=''\n",
    "    for i in Mc:\n",
    "        \n",
    "        s+=chr(ord(i)**d%N)\n",
    "    return s"
   ]
  },
  {
   "cell_type": "code",
   "execution_count": 9,
   "id": "0398e877",
   "metadata": {},
   "outputs": [
    {
     "name": "stdout",
     "output_type": "stream",
     "text": [
      "Enter your message: Hello \n",
      "Hello \n"
     ]
    }
   ],
   "source": [
    "mssg= input(\"Enter your message: \")  \n",
    "a=codage(7,mssg)\n",
    "b=decodage(7,11*13,a)\n",
    "print (b)"
   ]
  },
  {
   "cell_type": "code",
   "execution_count": null,
   "id": "930434c2",
   "metadata": {},
   "outputs": [],
   "source": []
  },
  {
   "cell_type": "code",
   "execution_count": null,
   "id": "6ed18197",
   "metadata": {},
   "outputs": [],
   "source": []
  }
 ],
 "metadata": {
  "kernelspec": {
   "display_name": "Python 3 (ipykernel)",
   "language": "python",
   "name": "python3"
  },
  "language_info": {
   "codemirror_mode": {
    "name": "ipython",
    "version": 3
   },
   "file_extension": ".py",
   "mimetype": "text/x-python",
   "name": "python",
   "nbconvert_exporter": "python",
   "pygments_lexer": "ipython3",
   "version": "3.9.13"
  }
 },
 "nbformat": 4,
 "nbformat_minor": 5
}
