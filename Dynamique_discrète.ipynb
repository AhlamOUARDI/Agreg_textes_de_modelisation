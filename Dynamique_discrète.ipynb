{
 "cells": [
  {
   "cell_type": "code",
   "execution_count": 1,
   "id": "a908cb54-5ca1-4e1b-b84e-99cd2c517c64",
   "metadata": {},
   "outputs": [],
   "source": [
    "import numpy as np"
   ]
  },
  {
   "cell_type": "code",
   "execution_count": 141,
   "id": "980de47d-c05c-4370-aaf6-b9cfe926a4e2",
   "metadata": {},
   "outputs": [],
   "source": [
    "F = [0.000, 0.045, 0.391, 0.472, 0.484, 0.546, 0.511, 0.412, 0.352, 0.122, 0.088, 0.013]\n",
    "T = [0.845, 0.975, 0.965, 0.950, 0.926, 0.895, 0.850, 0.786, 0.691, 0.561, 0.370]\n",
    "n=len(F)\n",
    "P=np.diag(T,-1)\n",
    "for i in range(n) :\n",
    "    P[0,i]=F[i]\n",
    "    \n",
    "def p(N):\n",
    "    X_0=np.random.rand(12)\n",
    "    for i in range (0, N):\n",
    "        X=np.dot(P,X_0)\n",
    "        X_0=X\n",
    "    return X\n",
    "\n",
    "Y=[p(30)[i]/np.linalg.norm(p(30),1) for i in range(len(p(30)))]"
   ]
  },
  {
   "cell_type": "code",
   "execution_count": 16,
   "id": "213f09ef-aed3-406a-a69a-3c048ca5546e",
   "metadata": {
    "tags": []
   },
   "outputs": [],
   "source": [
    "def phi(x):\n",
    "    F = [0.000, 0.045, 0.391, 0.472, 0.484, 0.546, 0.511, 0.412, 0.352, 0.122, 0.088, 0.013]\n",
    "    T = [0.845, 0.975, 0.965-x, 0.950, 0.926, 0.895, 0.850, 0.786, 0.691, 0.561, 0.370]\n",
    "    tau=T[0]\n",
    "    R=F[0]+F[1]*tau\n",
    "    for i in range (1,len(T)):\n",
    "        tau*=T[i]\n",
    "        R+=tau*F[i+1]\n",
    "    return R-1\n",
    "        "
   ]
  },
  {
   "cell_type": "code",
   "execution_count": 22,
   "id": "05076776-c726-4c50-806e-588999c03bcb",
   "metadata": {},
   "outputs": [
    {
     "name": "stdout",
     "output_type": "stream",
     "text": [
      "[0.632910349272933]\n"
     ]
    }
   ],
   "source": [
    "from sympy import *\n",
    "\n",
    "x= symbols('x') \n",
    "\n",
    "# set the expression, y, equal to 0 and solve\n",
    "Z = solve(Eq(phi(x), 0))\n",
    "\n",
    "print(Z)\n"
   ]
  },
  {
   "cell_type": "code",
   "execution_count": 24,
   "id": "3ad382f8-7a35-43f6-8770-8c9729bad6ab",
   "metadata": {},
   "outputs": [
    {
     "data": {
      "text/plain": [
       "-9.992007221626409e-16"
      ]
     },
     "execution_count": 24,
     "metadata": {},
     "output_type": "execute_result"
    }
   ],
   "source": [
    "phi(0.632910349272933)"
   ]
  },
  {
   "cell_type": "code",
   "execution_count": null,
   "id": "63f2d827-5998-4bef-89ab-f1395c168932",
   "metadata": {},
   "outputs": [],
   "source": []
  }
 ],
 "metadata": {
  "kernelspec": {
   "display_name": "anaconda-panel-2023.05-py310",
   "language": "python",
   "name": "conda-env-anaconda-panel-2023.05-py310-py"
  },
  "language_info": {
   "codemirror_mode": {
    "name": "ipython",
    "version": 3
   },
   "file_extension": ".py",
   "mimetype": "text/x-python",
   "name": "python",
   "nbconvert_exporter": "python",
   "pygments_lexer": "ipython3",
   "version": "3.11.5"
  }
 },
 "nbformat": 4,
 "nbformat_minor": 5
}
