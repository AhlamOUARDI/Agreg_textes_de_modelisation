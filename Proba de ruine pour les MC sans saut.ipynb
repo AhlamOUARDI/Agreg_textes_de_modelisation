{
 "cells": [
  {
   "cell_type": "code",
   "execution_count": 1,
   "id": "18441f26",
   "metadata": {},
   "outputs": [],
   "source": [
    "import numpy as np\n",
    "import matplotlib.pyplot as plt"
   ]
  },
  {
   "cell_type": "code",
   "execution_count": 2,
   "id": "05e5cce5",
   "metadata": {},
   "outputs": [],
   "source": [
    "#proba d'arriver à 0 avant N+1\n",
    "def traj(i,p,N):\n",
    "    s=i\n",
    "    k=0\n",
    "    while s!=0:\n",
    "        x=np.random.choice(np.array([1,-1]),p=[p,1-p])\n",
    "        s+=x\n",
    "        if s==N+1:\n",
    "            return 0\n",
    "        k+=1\n",
    "    return k\n",
    "\n",
    "def Pr(m,i,p,N):\n",
    "    s=0\n",
    "    for j in range (m):\n",
    "        t=traj(i,p,N)\n",
    "        if t!=0:\n",
    "            s+=1\n",
    "    s=s/m\n",
    "    return s"
   ]
  },
  {
   "cell_type": "code",
   "execution_count": 3,
   "id": "b1f39a21",
   "metadata": {},
   "outputs": [
    {
     "data": {
      "text/plain": [
       "1.0"
      ]
     },
     "execution_count": 3,
     "metadata": {},
     "output_type": "execute_result"
    }
   ],
   "source": [
    "Pr(100000,1,0.2,10)"
   ]
  },
  {
   "cell_type": "code",
   "execution_count": 4,
   "id": "dbcfa5f3",
   "metadata": {},
   "outputs": [],
   "source": [
    "def traj(i,p,N):\n",
    "    s=i\n",
    "    k=0\n",
    "    while s!=N+1:\n",
    "        x=np.random.choice(np.array([1,-1]),p=[p,1-p])\n",
    "        s+=x\n",
    "        if s==0:\n",
    "            return 0\n",
    "        k+=1\n",
    "    return k\n",
    "\n",
    "def Pr(m,i,p,N):\n",
    "    s=0\n",
    "    for j in range (m):\n",
    "        t=traj(i,p,N)\n",
    "        if t!=0:\n",
    "            s+=1\n",
    "    s=s/m\n",
    "    return s"
   ]
  },
  {
   "cell_type": "code",
   "execution_count": 5,
   "id": "18075607",
   "metadata": {},
   "outputs": [
    {
     "ename": "IndexError",
     "evalue": "too many indices for array: array is 1-dimensional, but 2 were indexed",
     "output_type": "error",
     "traceback": [
      "\u001b[1;31m---------------------------------------------------------------------------\u001b[0m",
      "\u001b[1;31mIndexError\u001b[0m                                Traceback (most recent call last)",
      "\u001b[1;32m~\\AppData\\Local\\Temp\\ipykernel_63788\\3103405429.py\u001b[0m in \u001b[0;36m<module>\u001b[1;34m\u001b[0m\n\u001b[0;32m     12\u001b[0m         \u001b[1;32mfor\u001b[0m \u001b[0mk\u001b[0m \u001b[1;32min\u001b[0m \u001b[0mrange\u001b[0m \u001b[1;33m(\u001b[0m\u001b[0mj\u001b[0m\u001b[1;33m+\u001b[0m\u001b[1;36m1\u001b[0m\u001b[1;33m,\u001b[0m\u001b[0mm\u001b[0m\u001b[1;33m)\u001b[0m\u001b[1;33m:\u001b[0m\u001b[1;33m\u001b[0m\u001b[1;33m\u001b[0m\u001b[0m\n\u001b[0;32m     13\u001b[0m             \u001b[0mp\u001b[0m\u001b[1;33m*=\u001b[0m\u001b[0mX\u001b[0m\u001b[1;33m[\u001b[0m\u001b[0mk\u001b[0m\u001b[1;33m]\u001b[0m\u001b[1;33m\u001b[0m\u001b[1;33m\u001b[0m\u001b[0m\n\u001b[1;32m---> 14\u001b[1;33m         \u001b[0ms\u001b[0m\u001b[1;33m+=\u001b[0m\u001b[0mM\u001b[0m\u001b[1;33m[\u001b[0m\u001b[0mm\u001b[0m\u001b[1;33m,\u001b[0m\u001b[0mj\u001b[0m\u001b[1;33m]\u001b[0m\u001b[1;33m/\u001b[0m\u001b[0mp\u001b[0m\u001b[1;33m\u001b[0m\u001b[1;33m\u001b[0m\u001b[0m\n\u001b[0m\u001b[0;32m     15\u001b[0m         \u001b[0mX\u001b[0m\u001b[1;33m.\u001b[0m\u001b[0mappend\u001b[0m\u001b[1;33m(\u001b[0m\u001b[1;33m(\u001b[0m\u001b[1;36m1\u001b[0m\u001b[1;33m-\u001b[0m\u001b[0mM\u001b[0m\u001b[1;33m[\u001b[0m\u001b[0mm\u001b[0m\u001b[1;33m,\u001b[0m\u001b[0mm\u001b[0m\u001b[1;33m]\u001b[0m\u001b[1;33m-\u001b[0m\u001b[0ms\u001b[0m\u001b[1;33m)\u001b[0m\u001b[1;33m)\u001b[0m\u001b[1;33m\u001b[0m\u001b[1;33m\u001b[0m\u001b[0m\n",
      "\u001b[1;31mIndexError\u001b[0m: too many indices for array: array is 1-dimensional, but 2 were indexed"
     ]
    }
   ],
   "source": [
    "#bissection\n",
    "N=100\n",
    "h=1/N+1\n",
    "p=0.5\n",
    "M=np.diag([np.ones(N)*(1-p)],1)+np.diag([np.ones(N)*p],-1)\n",
    "r=np.random.rand()\n",
    "X=[r]\n",
    "for m in range (N+1):\n",
    "    s=0\n",
    "    for j in range (0,m):\n",
    "        p=1\n",
    "        for k in range (j+1,m):\n",
    "            p*=X[k]\n",
    "        s+=M[m,j]/p\n",
    "        X.append((1-M[m,m]-s))"
   ]
  },
  {
   "cell_type": "code",
   "execution_count": null,
   "id": "89239777",
   "metadata": {},
   "outputs": [],
   "source": [
    "M=np.diag(np.ones(N)*(1-p),1)+np.diag(np.ones(N)*p,-1)\n",
    "M[m,j]"
   ]
  },
  {
   "cell_type": "code",
   "execution_count": null,
   "id": "7bd1b923",
   "metadata": {},
   "outputs": [],
   "source": [
    "i"
   ]
  },
  {
   "cell_type": "code",
   "execution_count": null,
   "id": "89d9bb8e",
   "metadata": {},
   "outputs": [],
   "source": []
  },
  {
   "cell_type": "code",
   "execution_count": null,
   "id": "1d11a9ed",
   "metadata": {},
   "outputs": [],
   "source": []
  },
  {
   "cell_type": "code",
   "execution_count": null,
   "id": "e7116acf",
   "metadata": {},
   "outputs": [],
   "source": []
  },
  {
   "cell_type": "code",
   "execution_count": null,
   "id": "cd6c3e87",
   "metadata": {},
   "outputs": [],
   "source": []
  },
  {
   "cell_type": "code",
   "execution_count": null,
   "id": "2869cfcf",
   "metadata": {},
   "outputs": [],
   "source": []
  },
  {
   "cell_type": "code",
   "execution_count": null,
   "id": "b3c8373a",
   "metadata": {},
   "outputs": [],
   "source": []
  },
  {
   "cell_type": "code",
   "execution_count": null,
   "id": "e447cf25",
   "metadata": {},
   "outputs": [],
   "source": []
  },
  {
   "cell_type": "code",
   "execution_count": null,
   "id": "459139d0",
   "metadata": {},
   "outputs": [],
   "source": []
  },
  {
   "cell_type": "code",
   "execution_count": null,
   "id": "0e361319",
   "metadata": {},
   "outputs": [],
   "source": []
  },
  {
   "cell_type": "code",
   "execution_count": 127,
   "id": "b3bb895b",
   "metadata": {},
   "outputs": [
    {
     "ename": "SyntaxError",
     "evalue": "invalid syntax (2188720260.py, line 7)",
     "output_type": "error",
     "traceback": [
      "\u001b[1;36m  File \u001b[1;32m\"C:\\Users\\Guechchani\\AppData\\Local\\Temp\\ipykernel_41740\\2188720260.py\"\u001b[1;36m, line \u001b[1;32m7\u001b[0m\n\u001b[1;33m    while :\u001b[0m\n\u001b[1;37m          ^\u001b[0m\n\u001b[1;31mSyntaxError\u001b[0m\u001b[1;31m:\u001b[0m invalid syntax\n"
     ]
    }
   ],
   "source": [
    "L,R=0,1\n",
    "\n",
    "\n",
    "\n",
    "\n",
    "\n",
    "while :\n",
    "    if R-L<eps:\n",
    "        r1=(L+R)/2\n",
    "    else :\n",
    "        r=(L+R)/2\n",
    "        i=1\n",
    "    s=0\n",
    "    for j in range (0,i):\n",
    "        for k in range (j+1,i+1):\n",
    "            p*=X[k]\n",
    "        s+=p[i,j]/p\n",
    "    X[i+1]=(1-p[i,i]-s)\n",
    "    if X[i+1]<=0:\n",
    "        L=r\n",
    "    i+=1\n",
    "    if i<N:\n",
    "        "
   ]
  },
  {
   "cell_type": "code",
   "execution_count": null,
   "id": "cf436996",
   "metadata": {},
   "outputs": [],
   "source": []
  },
  {
   "cell_type": "code",
   "execution_count": null,
   "id": "4925a502",
   "metadata": {},
   "outputs": [],
   "source": []
  },
  {
   "cell_type": "code",
   "execution_count": 5,
   "id": "a3a9084f",
   "metadata": {},
   "outputs": [],
   "source": [
    "import numpy as np"
   ]
  },
  {
   "cell_type": "code",
   "execution_count": 9,
   "id": "b10abc12",
   "metadata": {},
   "outputs": [
    {
     "data": {
      "text/plain": [
       "[array([-1.17604719, -0.66460826, -0.88593162, -0.54060493, -0.05686906,\n",
       "        -0.05995986, -0.69791151, -0.2437184 , -4.30952557, -0.03135061])]"
      ]
     },
     "execution_count": 9,
     "metadata": {},
     "output_type": "execute_result"
    }
   ],
   "source": [
    "[np.log(1-u) for u in [np.random.rand(10)]]"
   ]
  },
  {
   "cell_type": "code",
   "execution_count": 8,
   "id": "5cf71423",
   "metadata": {},
   "outputs": [
    {
     "data": {
      "text/plain": [
       "[array([-1.4362455 , -0.10530261, -0.04213267, -0.21540236, -0.57517259,\n",
       "        -1.11783991, -1.19395766, -0.5303948 , -0.83039777, -0.13120378])]"
      ]
     },
     "execution_count": 8,
     "metadata": {},
     "output_type": "execute_result"
    }
   ],
   "source": [
    "[np.log(u) for u in [np.random.rand(10)]]"
   ]
  },
  {
   "cell_type": "code",
   "execution_count": null,
   "id": "53913999",
   "metadata": {},
   "outputs": [],
   "source": []
  },
  {
   "cell_type": "code",
   "execution_count": null,
   "id": "851e6b3c",
   "metadata": {},
   "outputs": [],
   "source": []
  },
  {
   "cell_type": "code",
   "execution_count": null,
   "id": "d3878108",
   "metadata": {},
   "outputs": [],
   "source": []
  },
  {
   "cell_type": "code",
   "execution_count": null,
   "id": "1c39a8a8",
   "metadata": {},
   "outputs": [],
   "source": []
  },
  {
   "cell_type": "code",
   "execution_count": null,
   "id": "526ac86b",
   "metadata": {},
   "outputs": [],
   "source": []
  },
  {
   "cell_type": "code",
   "execution_count": null,
   "id": "ca96f5d4",
   "metadata": {},
   "outputs": [],
   "source": []
  },
  {
   "cell_type": "code",
   "execution_count": null,
   "id": "97bef70b",
   "metadata": {},
   "outputs": [],
   "source": []
  },
  {
   "cell_type": "code",
   "execution_count": null,
   "id": "3ff82822",
   "metadata": {},
   "outputs": [],
   "source": []
  },
  {
   "cell_type": "code",
   "execution_count": null,
   "id": "3af8805b",
   "metadata": {},
   "outputs": [],
   "source": []
  },
  {
   "cell_type": "code",
   "execution_count": null,
   "id": "063356f4",
   "metadata": {},
   "outputs": [],
   "source": []
  },
  {
   "cell_type": "code",
   "execution_count": null,
   "id": "e352325c",
   "metadata": {},
   "outputs": [],
   "source": []
  },
  {
   "cell_type": "code",
   "execution_count": null,
   "id": "5946e502",
   "metadata": {},
   "outputs": [],
   "source": []
  },
  {
   "cell_type": "code",
   "execution_count": null,
   "id": "05184296",
   "metadata": {},
   "outputs": [],
   "source": []
  },
  {
   "cell_type": "code",
   "execution_count": null,
   "id": "e887f526",
   "metadata": {},
   "outputs": [],
   "source": []
  },
  {
   "cell_type": "code",
   "execution_count": null,
   "id": "f4a0be8a",
   "metadata": {},
   "outputs": [],
   "source": []
  },
  {
   "cell_type": "code",
   "execution_count": null,
   "id": "d1f6195f",
   "metadata": {},
   "outputs": [],
   "source": []
  },
  {
   "cell_type": "code",
   "execution_count": null,
   "id": "1957cffa",
   "metadata": {},
   "outputs": [],
   "source": []
  },
  {
   "cell_type": "code",
   "execution_count": null,
   "id": "429b69e6",
   "metadata": {},
   "outputs": [],
   "source": []
  },
  {
   "cell_type": "code",
   "execution_count": null,
   "id": "7409310b",
   "metadata": {},
   "outputs": [],
   "source": []
  },
  {
   "cell_type": "code",
   "execution_count": 20,
   "id": "2b9415d3",
   "metadata": {},
   "outputs": [
    {
     "name": "stdout",
     "output_type": "stream",
     "text": [
      "Valeur propre dominante: 0.999999970214286\n",
      "Vecteur propre correspondant: [0.26726125 0.53452247 0.80178373]\n"
     ]
    }
   ],
   "source": [
    "import numpy as np\n",
    "\n",
    "def power_method(A, epsilon, max_iterations):\n",
    "    n = A.shape[0]\n",
    "    x = np.array((1.0, 2.0, 3.0))  # Vecteur initial\n",
    "    x = x / np.linalg.norm(x)  # Normalisation du vecteur initial\n",
    "    y = A.dot(x)  # Produit matrice-vecteur\n",
    "    eigenvalue = np.dot(x, y)  # Estimation de la valeur propre dominante\n",
    "    x = y / np.linalg.norm(y)  # Normalisation du vecteur propre\n",
    "    while np.linalg.norm(A.dot(x) - eigenvalue * x) > epsilon:\n",
    "        print('1')\n",
    "        y = A.dot(x)  # Produit matrice-vecteur\n",
    "        eigenvalue = np.dot(x, y)  # Estimation de la valeur propre dominante\n",
    "        x = y / np.linalg.norm(y)  # Normalisation du vecteur propre\n",
    "    return eigenvalue, x\n",
    "\n",
    "# Exemple d'utilisation\n",
    "R=np.array(([0.728027761,-0.525104821,0.440727293],\n",
    "[0.608788550, 0.790790558, -0.063456595],\n",
    "[-0.315201640, 0.314507872, 0.895395279]))\n",
    "\n",
    "epsilon = 1e-6  # Tolérance pour la convergence\n",
    "max_iterations = 1000  # Nombre maximum d'itérations\n",
    "\n",
    "eigenvalue, eigenvector = power_method(R, epsilon, max_iterations)\n",
    "print(\"Valeur propre dominante:\", eigenvalue)\n",
    "print(\"Vecteur propre correspondant:\", eigenvector)"
   ]
  },
  {
   "cell_type": "code",
   "execution_count": null,
   "id": "fe39e41f",
   "metadata": {},
   "outputs": [],
   "source": []
  }
 ],
 "metadata": {
  "kernelspec": {
   "display_name": "Python 3 (ipykernel)",
   "language": "python",
   "name": "python3"
  },
  "language_info": {
   "codemirror_mode": {
    "name": "ipython",
    "version": 3
   },
   "file_extension": ".py",
   "mimetype": "text/x-python",
   "name": "python",
   "nbconvert_exporter": "python",
   "pygments_lexer": "ipython3",
   "version": "3.9.13"
  }
 },
 "nbformat": 4,
 "nbformat_minor": 5
}
