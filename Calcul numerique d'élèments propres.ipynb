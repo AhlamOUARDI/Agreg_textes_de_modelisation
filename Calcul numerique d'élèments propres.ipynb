{
 "cells": [
  {
   "cell_type": "code",
   "execution_count": 129,
   "id": "fbe09ea7",
   "metadata": {},
   "outputs": [],
   "source": [
    "import numpy as np\n",
    "import matplotlib.pyplot as plt"
   ]
  },
  {
   "cell_type": "code",
   "execution_count": 130,
   "id": "2937a8f8",
   "metadata": {},
   "outputs": [],
   "source": [
    "R=np.array(([0.728027761,-0.525104821,0.440727293],\n",
    "[0.608788550, 0.790790558, -0.063456595],\n",
    "[-0.315201640, 0.314507872, 0.895395279]))"
   ]
  },
  {
   "cell_type": "code",
   "execution_count": 170,
   "id": "4cbbd000",
   "metadata": {
    "scrolled": true
   },
   "outputs": [
    {
     "name": "stdout",
     "output_type": "stream",
     "text": [
      "Valeur propre dominante: 0.999999970214286\n",
      "Vecteur propre correspondant: [0.26726125 0.53452247 0.80178373]\n"
     ]
    }
   ],
   "source": [
    "def puissance(A, epsilon, max_iterations):\n",
    "    x = np.array((1.0, 2.0, 3.0))\n",
    "    n = A.shape[0]\n",
    "    x = x / np.linalg.norm(x)  # Normalisation du vecteur initial\n",
    "    for i in range(max_iterations):\n",
    "        y = A.dot(x)  # Produit matrice-vecteur\n",
    "        eigenvalue = np.dot(x, y)  # Estimation de la valeur propre dominante\n",
    "        x = y / np.linalg.norm(y)  # Normalisation du vecteur propre\n",
    "        # Critère de convergence\n",
    "        if np.linalg.norm((A.dot(x) - eigenvalue * x),2) < epsilon:\n",
    "            break\n",
    "    return eigenvalue, x\n",
    "\n",
    "# Exemple d'utilisation\n",
    "epsilon = 1e-7  # Tolérance pour la convergence\n",
    "max_iterations = 100  # Nombre maximum d'itérations\n",
    "\n",
    "eigenvalue, eigenvector = puissance(R, epsilon, max_iterations)\n",
    "print(\"Valeur propre dominante:\", eigenvalue)\n",
    "print(\"Vecteur propre correspondant:\", eigenvector)"
   ]
  },
  {
   "cell_type": "code",
   "execution_count": 143,
   "id": "035667e1",
   "metadata": {},
   "outputs": [
    {
     "name": "stdout",
     "output_type": "stream",
     "text": [
      "[1.         0.55309238 0.14904077]\n",
      "Inverse Eigenvalue: 1.0\n",
      "Inverse Eigenvector: [-0.26717367 -0.5346189  -0.80174863]\n",
      "[1.         0.55342091 0.14878818]\n",
      "Inverse Eigenvector: [0.26734885 0.53442605 0.8018188 ]\n"
     ]
    }
   ],
   "source": [
    "import numpy as np\n",
    "from scipy.linalg import lu\n",
    "\n",
    "def puissance_inv(A, max_iterations=1, tolerance=1e-7):\n",
    "    n = A.shape[0]\n",
    "    P,L, U = lu(A)\n",
    "    z0 = np.dot(L,np.ones((n)))\n",
    "    print (z0)\n",
    "    z0_=z0/np.linalg.norm(z0, ord=2)\n",
    "    for i in range(max_iterations):\n",
    "        y = np.linalg.solve(L, z0)\n",
    "        w = np.linalg.solve(U, y)\n",
    "        z = w / np.linalg.norm(w, ord=2)  # Normalization\n",
    "        if np.linalg.norm(z - z0_) < tolerance:\n",
    "            break\n",
    "        z0=z\n",
    "        z0_=z0/np.linalg.norm(z0, ord=2)\n",
    "        lamda = 1/np.dot(z0_.T, z)\n",
    "    return lamda, z0\n",
    "\n",
    "# Exemple d'utilisation\n",
    "s=1.0001\n",
    "B= R-s*np.eye(3)\n",
    "eigenvalue_inv, eigenvector_inv = puissance_inv(B)\n",
    "print(\"Inverse Eigenvalue:\", eigenvalue_inv)\n",
    "print(\"Inverse Eigenvector:\", eigenvector_inv)\n",
    "\n",
    "s=0.9999\n",
    "B= R-s*np.eye(3)\n",
    "eigenvalue_inv, eigenvector_inv = puissance_inv(B)\n",
    "print(\"Inverse Eigenvector:\", eigenvector_inv)"
   ]
  },
  {
   "cell_type": "code",
   "execution_count": 138,
   "id": "fdfc4142",
   "metadata": {},
   "outputs": [],
   "source": [
    "T= np.array((1.0, 2.0, 3.0))/np.linalg.norm(np.array((1.0, 2.0, 3.0)), ord=2)"
   ]
  },
  {
   "cell_type": "code",
   "execution_count": 156,
   "id": "96b621fb",
   "metadata": {},
   "outputs": [],
   "source": [
    "vi=np.dot(L,np.ones((3)))\n",
    "vi=vi/np.linalg.norm(vi,ord=2)\n",
    "y1 = np.linalg.solve(L, vi)\n",
    "v = np.linalg.solve(U, y1)\n",
    "v1=v/np.linalg.norm(v,ord=2)"
   ]
  },
  {
   "cell_type": "code",
   "execution_count": 168,
   "id": "dbfd369c",
   "metadata": {},
   "outputs": [],
   "source": [
    "vi=v1\n",
    "vi=vi/np.linalg.norm(vi,ord=2)\n",
    "y1 = np.linalg.solve(L, vi)\n",
    "v = np.linalg.solve(U, y1)\n",
    "v1=v/np.linalg.norm(v,ord=2)"
   ]
  },
  {
   "cell_type": "code",
   "execution_count": 171,
   "id": "32cef08c",
   "metadata": {},
   "outputs": [
    {
     "data": {
      "text/plain": [
       "array([0.02057132, 0.92422875, 0.38128473])"
      ]
     },
     "execution_count": 171,
     "metadata": {},
     "output_type": "execute_result"
    }
   ],
   "source": [
    "v1"
   ]
  },
  {
   "cell_type": "code",
   "execution_count": 172,
   "id": "9179d67b",
   "metadata": {},
   "outputs": [
    {
     "data": {
      "text/plain": [
       "array([[ 0.72802776, -0.52510482,  0.44072729],\n",
       "       [ 0.60878855,  0.79079056, -0.0634566 ],\n",
       "       [-0.31520164,  0.31450787,  0.89539528]])"
      ]
     },
     "execution_count": 172,
     "metadata": {},
     "output_type": "execute_result"
    }
   ],
   "source": [
    "R"
   ]
  },
  {
   "cell_type": "code",
   "execution_count": null,
   "id": "e0b3e232",
   "metadata": {},
   "outputs": [],
   "source": []
  }
 ],
 "metadata": {
  "kernelspec": {
   "display_name": "Python 3 (ipykernel)",
   "language": "python",
   "name": "python3"
  },
  "language_info": {
   "codemirror_mode": {
    "name": "ipython",
    "version": 3
   },
   "file_extension": ".py",
   "mimetype": "text/x-python",
   "name": "python",
   "nbconvert_exporter": "python",
   "pygments_lexer": "ipython3",
   "version": "3.9.13"
  }
 },
 "nbformat": 4,
 "nbformat_minor": 5
}
