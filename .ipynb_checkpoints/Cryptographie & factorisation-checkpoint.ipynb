{
 "cells": [
  {
   "cell_type": "code",
   "execution_count": 119,
   "id": "86ffc51f",
   "metadata": {},
   "outputs": [],
   "source": [
    "import numpy as np\n",
    "from math import *\n",
    "import matplotlib.pyplot as plt"
   ]
  },
  {
   "cell_type": "markdown",
   "id": "d03d2b78",
   "metadata": {},
   "source": [
    "**Méthode naive**"
   ]
  },
  {
   "cell_type": "code",
   "execution_count": 120,
   "id": "3468715b",
   "metadata": {},
   "outputs": [
    {
     "data": {
      "text/plain": [
       "13"
      ]
     },
     "execution_count": 120,
     "metadata": {},
     "output_type": "execute_result"
    }
   ],
   "source": [
    "def naive(n):\n",
    "    f=[]\n",
    "    i=2\n",
    "    while i<=np.sqrt(n):\n",
    "        if n%i==0:\n",
    "            f.append(i)\n",
    "            if i!= n//i:\n",
    "                f.append(n//i)\n",
    "        i+=1\n",
    "    if f==[]:\n",
    "        f.append(n)\n",
    "    return min(f)\n",
    "\n",
    "naive(12345671)"
   ]
  },
  {
   "cell_type": "markdown",
   "id": "924ea4ed",
   "metadata": {},
   "source": [
    "**Factorisation de Pollard**"
   ]
  },
  {
   "cell_type": "code",
   "execution_count": 121,
   "id": "64f224e6",
   "metadata": {},
   "outputs": [
    {
     "data": {
      "text/plain": [
       "11"
      ]
     },
     "execution_count": 121,
     "metadata": {},
     "output_type": "execute_result"
    }
   ],
   "source": [
    "def pollard(n):\n",
    "    f = lambda t : t**2+1\n",
    "    i= 2 #np.random.randint(2)\n",
    "    b= 2 #np.random.randint(2)\n",
    "    d=1\n",
    "    if n==1: return [1]\n",
    "    while d==1:\n",
    "        i,b=f(i)%n,f(f(b))%n\n",
    "        d=gcd(i-b,n)\n",
    "    return d\n",
    "pollard(11*13)"
   ]
  },
  {
   "cell_type": "markdown",
   "id": "80e727dc",
   "metadata": {},
   "source": [
    "**RSA**"
   ]
  },
  {
   "cell_type": "code",
   "execution_count": 122,
   "id": "95b666b5",
   "metadata": {},
   "outputs": [],
   "source": [
    "def codage(m,M): \n",
    "    l=[]\n",
    "    N=11*13\n",
    "    s=''\n",
    "    for i in M:\n",
    "        l.append(int(ord(str(i))**m))\n",
    "        s+=chr(int(ord(str(i))**m%N))\n",
    "    return s\n",
    "\n",
    "\n",
    "def inverse(a, b):\n",
    "    x = 0\n",
    "    y = 1\n",
    "    lx = 1\n",
    "    ly = 0\n",
    "    oa = a  \n",
    "    ob = b  \n",
    "    while b != 0: \n",
    "        q = a // b\n",
    "        (a, b) = (b, a % b)\n",
    "        (x, lx) = ((lx - (q * x)), x)\n",
    "        (y, ly) = ((ly - (q * y)), y)\n",
    "        if lx < 0:\n",
    "            lx += ob  \n",
    "        if ly < 0:\n",
    "            ly += oa         \n",
    "    return lx\n",
    "\n",
    "def decodage(m,n,Mc):\n",
    "    p,q =pollard(n), N//pollard(n)\n",
    "    phi = (p-1) * (q-1)\n",
    "    d = inverse(m, phi)   \n",
    "    print (d)\n",
    "    l=[]\n",
    "    s=''\n",
    "    for i in Mc:\n",
    "        l.append(int(ord(i)**d%N))\n",
    "        s+=chr(l[-1])\n",
    "    return s"
   ]
  },
  {
   "cell_type": "code",
   "execution_count": 124,
   "id": "0398e877",
   "metadata": {},
   "outputs": [
    {
     "name": "stdout",
     "output_type": "stream",
     "text": [
      "Enter your message: e\n",
      "103\n",
      "e\n"
     ]
    }
   ],
   "source": [
    "mssg= input(\"Enter your message: \")  \n",
    "a=codage(7,mssg)\n",
    "b=decodage(7,11*13,a)\n",
    "print (b)"
   ]
  },
  {
   "cell_type": "code",
   "execution_count": null,
   "id": "5b371164",
   "metadata": {},
   "outputs": [],
   "source": []
  },
  {
   "cell_type": "code",
   "execution_count": null,
   "id": "d341ddd1",
   "metadata": {},
   "outputs": [],
   "source": []
  }
 ],
 "metadata": {
  "kernelspec": {
   "display_name": "Python 3 (ipykernel)",
   "language": "python",
   "name": "python3"
  },
  "language_info": {
   "codemirror_mode": {
    "name": "ipython",
    "version": 3
   },
   "file_extension": ".py",
   "mimetype": "text/x-python",
   "name": "python",
   "nbconvert_exporter": "python",
   "pygments_lexer": "ipython3",
   "version": "3.9.13"
  }
 },
 "nbformat": 4,
 "nbformat_minor": 5
}
