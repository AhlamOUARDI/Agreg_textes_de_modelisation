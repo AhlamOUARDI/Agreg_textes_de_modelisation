{
 "cells": [
  {
   "cell_type": "code",
   "execution_count": 14,
   "id": "32cc954e",
   "metadata": {},
   "outputs": [],
   "source": [
    "import numpy as np\n",
    "import matplotlib.pyplot as plt"
   ]
  },
  {
   "cell_type": "markdown",
   "id": "e8951585",
   "metadata": {},
   "source": [
    " **I- Le problème de Lennard Jones de taille N**"
   ]
  },
  {
   "cell_type": "code",
   "execution_count": 17,
   "id": "10c18f06",
   "metadata": {},
   "outputs": [
    {
     "data": {
      "image/png": "[encoded data removed]",
      "text/plain": [
       "<Figure size 640x480 with 1 Axes>"
      ]
     },
     "metadata": {},
     "output_type": "display_data"
    }
   ],
   "source": [
    "V=lambda r: r**(-12)-2*r**(-6)\n",
    "x=np.arange(0.8, 2, 0.001)\n",
    "f=[V(x[i]) for i in range (len(x))]\n",
    "plt.plot(x,f)\n",
    "plt.show()"
   ]
  },
  {
   "cell_type": "code",
   "execution_count": 18,
   "id": "0bdcceb6",
   "metadata": {},
   "outputs": [
    {
     "data": {
      "text/plain": [
       "-1.0"
      ]
     },
     "execution_count": 18,
     "metadata": {},
     "output_type": "execute_result"
    }
   ],
   "source": [
    "def LJN(X):\n",
    "    l=0\n",
    "    for i in range(0,len(X)-3,3):\n",
    "        for j in range(i+3,len(X),3):\n",
    "            l+=V(np.linalg.norm(X[i:i+3]-X[j:j+3]))\n",
    "    return l\n",
    "\n",
    "X=np.array([0,0,0,1,0,0])\n",
    "LJN(X)"
   ]
  },
  {
   "cell_type": "markdown",
   "id": "60ea1eee",
   "metadata": {},
   "source": [
    "**II- Méthodes de descente**"
   ]
  },
  {
   "cell_type": "code",
   "execution_count": 19,
   "id": "cdfbdfda",
   "metadata": {},
   "outputs": [],
   "source": [
    "def dxi(i,f,X0,h):\n",
    "    X=X0.copy()\n",
    "    X[i]=X[i]+h\n",
    "    return (f(X)-f(X0))/h\n",
    "    \n",
    "\n",
    "def grad(f,X):\n",
    "    n=len(X)\n",
    "    gradient=np.zeros(n)\n",
    "    for i in range(n):\n",
    "        gradient[i]=dxi([i],f,X,h)\n",
    "    return gradient\n",
    "\n",
    "def descente(f,X0,n):\n",
    "    d=-1*grad(f,X0)\n",
    "    k=0\n",
    "    while np.linalg.norm(d)>f(X0) and k<n:\n",
    "        alpha=1/np.linalg.norm(d)\n",
    "        while f(X0+alpha*d)>f(X0) +beta*alpha*np.vdot(d,-1*d) :\n",
    "            alpha*=tau\n",
    "        X= X0 + alpha*d\n",
    "        k+=1\n",
    "        d=-1*grad(f,X)\n",
    "        X0=X\n",
    "    return X"
   ]
  },
  {
   "cell_type": "code",
   "execution_count": 20,
   "id": "14a738aa",
   "metadata": {},
   "outputs": [
    {
     "name": "stdout",
     "output_type": "stream",
     "text": [
      "-0.9999999999963205\n",
      "-2.9999999872071914\n",
      "-5.999999958687544\n"
     ]
    }
   ],
   "source": [
    "h=1e-4\n",
    "tau=0.3\n",
    "beta=1e-4\n",
    "n = 500\n",
    "X2=np.random.rand(6)\n",
    "X3=np.random.rand(9)\n",
    "X4=np.random.rand(12)\n",
    "print (LJN(descente(LJN,X2,n)))\n",
    "print (LJN(descente(LJN,X3,n)))\n",
    "print (LJN(descente(LJN,X4,n)))"
   ]
  },
  {
   "cell_type": "markdown",
   "id": "2c22c689",
   "metadata": {},
   "source": [
    "**III- Méthode du recuit simulé**"
   ]
  },
  {
   "cell_type": "code",
   "execution_count": 21,
   "id": "e105f320",
   "metadata": {},
   "outputs": [],
   "source": [
    "def recuit(f,Z,R,T):\n",
    "    alpha=np.random.rand()\n",
    "    Y=np.random.rand(3)\n",
    "    while np.linalg.norm(X-Y)>R:\n",
    "        Y=np.random.rand(len(X))\n",
    "    while np.linalg.norm(X-Y)<R :\n",
    "        if f(Y)<= f(X):\n",
    "            X=Y\n",
    "        else :\n",
    "            p=exp((-f(Y)+ f(X))/T)\n",
    "            \n",
    "        T,R=alpha*T, alpha*R\n",
    "    return Y"
   ]
  },
  {
   "cell_type": "code",
   "execution_count": null,
   "id": "3a97622b",
   "metadata": {},
   "outputs": [],
   "source": [
    "def recuit(f,Z,R,T):\n",
    "    alpha=np.random.rand()\n",
    "    Y=np.random.rand(3)\n",
    "    while np.linalg.norm(X-Y)>R:\n",
    "        Y=np.random.rand(len(X))\n",
    "    while np.linalg.norm(X-Y)<R :\n",
    "        if f(Y)<= f(X):\n",
    "            X=Y\n",
    "        else :\n",
    "            p=exp((-f(Y)+ f(X))/T)\n",
    "            \n",
    "        T,R=alpha*T, alpha*R\n",
    "    return Y"
   ]
  },
  {
   "cell_type": "code",
   "execution_count": 22,
   "id": "5360d2ac",
   "metadata": {},
   "outputs": [
    {
     "ename": "ValueError",
     "evalue": "operands could not be broadcast together with shapes (6,) (3,) ",
     "output_type": "error",
     "traceback": [
      "\u001b[1;31m---------------------------------------------------------------------------\u001b[0m",
      "\u001b[1;31mValueError\u001b[0m                                Traceback (most recent call last)",
      "\u001b[1;32m~\\AppData\\Local\\Temp\\ipykernel_3524\\1544809698.py\u001b[0m in \u001b[0;36m<module>\u001b[1;34m\u001b[0m\n\u001b[1;32m----> 1\u001b[1;33m \u001b[0mrecuit\u001b[0m\u001b[1;33m(\u001b[0m\u001b[0mV\u001b[0m\u001b[1;33m,\u001b[0m\u001b[0mX\u001b[0m\u001b[1;33m,\u001b[0m\u001b[1;36m0.2\u001b[0m\u001b[1;33m,\u001b[0m\u001b[1;36m1\u001b[0m\u001b[1;33m)\u001b[0m\u001b[1;33m\u001b[0m\u001b[1;33m\u001b[0m\u001b[0m\n\u001b[0m",
      "\u001b[1;32m~\\AppData\\Local\\Temp\\ipykernel_3524\\2895891955.py\u001b[0m in \u001b[0;36mrecuit\u001b[1;34m(f, X, R, T)\u001b[0m\n\u001b[0;32m      2\u001b[0m     \u001b[0malpha\u001b[0m\u001b[1;33m=\u001b[0m\u001b[0mnp\u001b[0m\u001b[1;33m.\u001b[0m\u001b[0mrandom\u001b[0m\u001b[1;33m.\u001b[0m\u001b[0mrand\u001b[0m\u001b[1;33m(\u001b[0m\u001b[1;33m)\u001b[0m\u001b[1;33m\u001b[0m\u001b[1;33m\u001b[0m\u001b[0m\n\u001b[0;32m      3\u001b[0m     \u001b[0mY\u001b[0m\u001b[1;33m=\u001b[0m\u001b[0mnp\u001b[0m\u001b[1;33m.\u001b[0m\u001b[0mrandom\u001b[0m\u001b[1;33m.\u001b[0m\u001b[0mrand\u001b[0m\u001b[1;33m(\u001b[0m\u001b[1;36m3\u001b[0m\u001b[1;33m)\u001b[0m\u001b[1;33m\u001b[0m\u001b[1;33m\u001b[0m\u001b[0m\n\u001b[1;32m----> 4\u001b[1;33m     \u001b[1;32mwhile\u001b[0m \u001b[0mnp\u001b[0m\u001b[1;33m.\u001b[0m\u001b[0mlinalg\u001b[0m\u001b[1;33m.\u001b[0m\u001b[0mnorm\u001b[0m\u001b[1;33m(\u001b[0m\u001b[0mX\u001b[0m\u001b[1;33m-\u001b[0m\u001b[0mY\u001b[0m\u001b[1;33m)\u001b[0m\u001b[1;33m>\u001b[0m\u001b[0mR\u001b[0m\u001b[1;33m:\u001b[0m\u001b[1;33m\u001b[0m\u001b[1;33m\u001b[0m\u001b[0m\n\u001b[0m\u001b[0;32m      5\u001b[0m         \u001b[0mY\u001b[0m\u001b[1;33m=\u001b[0m\u001b[0mnp\u001b[0m\u001b[1;33m.\u001b[0m\u001b[0mrandom\u001b[0m\u001b[1;33m.\u001b[0m\u001b[0mrand\u001b[0m\u001b[1;33m(\u001b[0m\u001b[0mlen\u001b[0m\u001b[1;33m(\u001b[0m\u001b[0mX\u001b[0m\u001b[1;33m)\u001b[0m\u001b[1;33m)\u001b[0m\u001b[1;33m\u001b[0m\u001b[1;33m\u001b[0m\u001b[0m\n\u001b[0;32m      6\u001b[0m     \u001b[1;32mwhile\u001b[0m \u001b[0mnp\u001b[0m\u001b[1;33m.\u001b[0m\u001b[0mlinalg\u001b[0m\u001b[1;33m.\u001b[0m\u001b[0mnorm\u001b[0m\u001b[1;33m(\u001b[0m\u001b[0mX\u001b[0m\u001b[1;33m-\u001b[0m\u001b[0mY\u001b[0m\u001b[1;33m)\u001b[0m\u001b[1;33m<\u001b[0m\u001b[0mR\u001b[0m \u001b[1;33m:\u001b[0m\u001b[1;33m\u001b[0m\u001b[1;33m\u001b[0m\u001b[0m\n",
      "\u001b[1;31mValueError\u001b[0m: operands could not be broadcast together with shapes (6,) (3,) "
     ]
    }
   ],
   "source": [
    "\n",
    "recuit(V,X,0.2,1)"
   ]
  },
  {
   "cell_type": "code",
   "execution_count": 12,
   "id": "51f35d6a",
   "metadata": {},
   "outputs": [
    {
     "data": {
      "text/plain": [
       "array([0, 0, 0, 1, 0, 0])"
      ]
     },
     "execution_count": 12,
     "metadata": {},
     "output_type": "execute_result"
    }
   ],
   "source": [
    "X"
   ]
  },
  {
   "cell_type": "code",
   "execution_count": null,
   "id": "79260362",
   "metadata": {},
   "outputs": [],
   "source": []
  },
  {
   "cell_type": "code",
   "execution_count": null,
   "id": "49efdcc5",
   "metadata": {},
   "outputs": [],
   "source": []
  },
  {
   "cell_type": "markdown",
   "id": "e0fc70b0",
   "metadata": {},
   "source": [
    "Pour $$f(x)=<AX,X>+<b,X>$$\n",
    "la méthode de descente pour la résolution des systèmes linéaires\n",
    "$$\\nabla f(x) = 2AX+bx$$\n"
   ]
  },
  {
   "cell_type": "code",
   "execution_count": null,
   "id": "a4791b1f",
   "metadata": {},
   "outputs": [],
   "source": []
  },
  {
   "cell_type": "code",
   "execution_count": null,
   "id": "6909bf95",
   "metadata": {},
   "outputs": [],
   "source": []
  }
 ],
 "metadata": {
  "kernelspec": {
   "display_name": "Python 3 (ipykernel)",
   "language": "python",
   "name": "python3"
  },
  "language_info": {
   "codemirror_mode": {
    "name": "ipython",
    "version": 3
   },
   "file_extension": ".py",
   "mimetype": "text/x-python",
   "name": "python",
   "nbconvert_exporter": "python",
   "pygments_lexer": "ipython3",
   "version": "3.9.13"
  }
 },
 "nbformat": 4,
 "nbformat_minor": 5
}
