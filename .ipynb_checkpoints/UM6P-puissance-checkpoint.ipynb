{
 "cells": [
  {
   "cell_type": "code",
   "execution_count": 1,
   "metadata": {},
   "outputs": [
    {
     "name": "stdout",
     "output_type": "stream",
     "text": [
      "verification Ar/r\n",
      "[[7.00826305]\n",
      " [7.02198061]\n",
      " [7.04042996]\n",
      " [7.01043285]\n",
      " [7.04226576]\n",
      " [7.00258713]\n",
      " [7.02576828]]\n"
     ]
    }
   ],
   "source": [
    "import math as m\n",
    "import numpy as np\n",
    "n=7\n",
    "D=np.diag([i+1 for i in range(n)])\n",
    "P=np.random.uniform(size=(n,n))\n",
    "A=P@D@np.linalg.inv(P)\n",
    "r0=np.random.uniform(size=(n,1))\n",
    "def f(V,n):\n",
    "    s=0.\n",
    "    for i in range(n):\n",
    "        s=s+(V[i])**2\n",
    "    return np.sqrt(s)\n",
    "r=r0\n",
    "N=30\n",
    "for i in range(N):\n",
    "    r=1/f(A@r,n)*A@r\n",
    "print('verification Ar/r')\n",
    "print(A@r/r)\n"
   ]
  },
  {
   "cell_type": "code",
   "execution_count": null,
   "metadata": {},
   "outputs": [],
   "source": []
  }
 ],
 "metadata": {
  "kernelspec": {
   "display_name": "Python 3 (ipykernel)",
   "language": "python",
   "name": "python3"
  },
  "language_info": {
   "codemirror_mode": {
    "name": "ipython",
    "version": 3
   },
   "file_extension": ".py",
   "mimetype": "text/x-python",
   "name": "python",
   "nbconvert_exporter": "python",
   "pygments_lexer": "ipython3",
   "version": "3.9.13"
  }
 },
 "nbformat": 4,
 "nbformat_minor": 2
}
